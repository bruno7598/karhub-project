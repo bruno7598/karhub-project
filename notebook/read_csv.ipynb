{
 "cells": [
  {
   "cell_type": "code",
   "execution_count": null,
   "metadata": {},
   "outputs": [],
   "source": [
    "import pandas"
   ]
  },
  {
   "cell_type": "code",
   "execution_count": 2,
   "metadata": {},
   "outputs": [],
   "source": [
    "csv_path = '/path/to/your/csv/files/'\n",
    "\n",
    "# Lê todos os arquivos CSV no diretório\n",
    "df = pd.concat([pd.read_csv(file) for file in csv_path])\n",
    "\n",
    "# Transforma e processa seus dados conforme necessário\n",
    "# Exemplo: df_transformed = df...\n",
    "\n",
    "# Caminho para salvar o arquivo Feather de saída\n",
    "feather_path = '/path/to/your/output/feather/file.feather'\n",
    "\n",
    "# Salva em formato Feather\n",
    "df.to_feather(feather_path)\n"
   ]
  },
  {
   "cell_type": "code",
   "execution_count": 3,
   "metadata": {},
   "outputs": [
    {
     "name": "stdout",
     "output_type": "stream",
     "text": [
      "+--------------------+--------------------+---------------+\n",
      "|   Fonte de Recursos|             Receita|     Arrecadado|\n",
      "+--------------------+--------------------+---------------+\n",
      "|001 - TESOURO-DOT...|11130111 - IRRF -...|  4267858335,83|\n",
      "|001 - TESOURO-DOT...|11130311 - IRRF-I...|  4323772997,93|\n",
      "|001 - TESOURO-DOT...|11130341 - IRRF-O...|   123071158,14|\n",
      "|001 - TESOURO-DOT...|11180121 - IPVA -...|  8202995933,47|\n",
      "|001 - TESOURO-DOT...|11180122 - IPVA -...|        6927,39|\n",
      "|001 - TESOURO-DOT...|11180123 - IPVA -...|   235614546,72|\n",
      "|001 - TESOURO-DOT...|11180124 - IPVA -...|      401195,68|\n",
      "|001 - TESOURO-DOT...|11180131 - ITCMD-...|  3158253957,69|\n",
      "|001 - TESOURO-DOT...|11180132 - ITCMD ...|   218862721,73|\n",
      "|001 - TESOURO-DOT...|11180133 - ITCMD ...|     8067099,83|\n",
      "|001 - TESOURO-DOT...|11180134 - ITCMD ...|    12176510,96|\n",
      "|001 - TESOURO-DOT...|11180211 - ICMS -...|107251547629,75|\n",
      "|001 - TESOURO-DOT...|11180212 - ICMS -...|  1664601065,05|\n",
      "|001 - TESOURO-DOT...|11180213 - ICMS -...|  1807508819,34|\n",
      "|001 - TESOURO-DOT...|11180214 - ICMS -...|   553017110,44|\n",
      "|001 - TESOURO-DOT...|11180221 - ADIC. ...|   696063871,22|\n",
      "|001 - TESOURO-DOT...|11180222 - ADIC.I...|      159345,51|\n",
      "|001 - TESOURO-DOT...|11220111 - TAXA P...|  4360882904,65|\n",
      "|001 - TESOURO-DOT...|11220113 - TAXAS ...|     1245193,71|\n",
      "|001 - TESOURO-DOT...|11220114 - TX PRE...|      407269,52|\n",
      "+--------------------+--------------------+---------------+\n",
      "only showing top 20 rows\n",
      "\n"
     ]
    }
   ],
   "source": [
    "df_receita.show()"
   ]
  },
  {
   "cell_type": "code",
   "execution_count": null,
   "metadata": {},
   "outputs": [],
   "source": []
  }
 ],
 "metadata": {
  "kernelspec": {
   "display_name": "karhub",
   "language": "python",
   "name": "python3"
  },
  "language_info": {
   "codemirror_mode": {
    "name": "ipython",
    "version": 3
   },
   "file_extension": ".py",
   "mimetype": "text/x-python",
   "name": "python",
   "nbconvert_exporter": "python",
   "pygments_lexer": "ipython3",
   "version": "3.11.9"
  }
 },
 "nbformat": 4,
 "nbformat_minor": 2
}
