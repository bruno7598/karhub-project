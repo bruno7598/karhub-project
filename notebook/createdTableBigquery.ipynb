{
 "cells": [
  {
   "cell_type": "code",
   "execution_count": null,
   "metadata": {},
   "outputs": [],
   "source": [
    "from google.cloud import bigquery\n",
    "import json\n",
    "\n",
    "schema_file_path = '/karhub-project/resources/bigquery_table/schema_despesas.json'\n",
    "\n",
    "with open(schema_file_path, 'r') as schema_file:\n",
    "    schema = json.load(schema_file)\n",
    "\n",
    "client = bigquery.Client()\n",
    "\n",
    "table_id = \"regal-state-348418.dataset_karhub.fonte_recursos_receita\"\n",
    "\n",
    "table = bigquery.Table(table_id, schema=schema)\n",
    "\n",
    "try:\n",
    "    client.create_table(table)\n",
    "    print(f\"Tabela {table_id} criada com sucesso!\")\n",
    "except Exception as e:\n",
    "    print(f\"Erro ao criar tabela: {e}\")\n"
   ]
  }
 ],
 "metadata": {
  "language_info": {
   "name": "python"
  }
 },
 "nbformat": 4,
 "nbformat_minor": 2
}
